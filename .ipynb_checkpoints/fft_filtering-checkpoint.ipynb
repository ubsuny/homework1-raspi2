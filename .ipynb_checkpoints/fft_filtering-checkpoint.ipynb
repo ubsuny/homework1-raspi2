{
 "cells": [
  {
   "cell_type": "markdown",
   "metadata": {},
   "source": [
    "# Demonstrate FFT filtering\n",
    "\n",
    "\n",
    "It is also possible to perform manipulations of waveforms in the frequency domain. This has physical applications in low-pass, high-pass, and band-pass filters. Only certain frequencies are allowed in the frequency domain. Once transforming back into the time domain, there are observable effects on the waveform. You can remove high frequencies, low frequencies, or bands of frequencies. \n",
    "\n",
    "To demonstrate this, we will look at a different dataset, the number of sunspots in the sun from [the Solar Influences Data Analysis Center](http://www.sidc.be/DATA/yearssn.dat). Sunspots are often accompanied by solar flares, which can affect temperatures on earth. \n",
    "\n",
    "However, this dataset is often used by climate change deniers to therefore conclude that humans are not responsible for the warming planet. This dataset does not support the hypothesis quantitatively because the sun spot activity does not correlate with the global temperature anomaly. "
   ]
  },
  {
   "cell_type": "code",
   "execution_count": 1,
   "metadata": {},
   "outputs": [
    {
     "ename": "ModuleNotFoundError",
     "evalue": "No module named 'fft'",
     "output_type": "error",
     "traceback": [
      "\u001b[0;31m---------------------------------------------------------------------------\u001b[0m",
      "\u001b[0;31mModuleNotFoundError\u001b[0m                       Traceback (most recent call last)",
      "\u001b[0;32m<ipython-input-1-fa73d3550650>\u001b[0m in \u001b[0;36m<module>\u001b[0;34m\u001b[0m\n\u001b[1;32m      1\u001b[0m \u001b[0;32mimport\u001b[0m \u001b[0mmatplotlib\u001b[0m\u001b[0;34m.\u001b[0m\u001b[0mpyplot\u001b[0m \u001b[0;32mas\u001b[0m \u001b[0mplt\u001b[0m\u001b[0;34m\u001b[0m\u001b[0;34m\u001b[0m\u001b[0m\n\u001b[1;32m      2\u001b[0m \u001b[0;34m\u001b[0m\u001b[0m\n\u001b[0;32m----> 3\u001b[0;31m \u001b[0;32mfrom\u001b[0m \u001b[0mfft\u001b[0m \u001b[0;32mimport\u001b[0m \u001b[0mfft\u001b[0m\u001b[0;34m,\u001b[0m \u001b[0mfft_power\u001b[0m\u001b[0;34m,\u001b[0m \u001b[0mifft\u001b[0m\u001b[0;34m\u001b[0m\u001b[0;34m\u001b[0m\u001b[0m\n\u001b[0m\u001b[1;32m      4\u001b[0m \u001b[0;32mimport\u001b[0m \u001b[0mnumpy\u001b[0m \u001b[0;32mas\u001b[0m \u001b[0mnp\u001b[0m\u001b[0;34m\u001b[0m\u001b[0;34m\u001b[0m\u001b[0m\n\u001b[1;32m      5\u001b[0m \u001b[0;32mimport\u001b[0m \u001b[0mmath\u001b[0m\u001b[0;34m\u001b[0m\u001b[0;34m\u001b[0m\u001b[0m\n",
      "\u001b[0;31mModuleNotFoundError\u001b[0m: No module named 'fft'"
     ]
    }
   ],
   "source": [
    "import matplotlib.pyplot as plt\n",
    "\n",
    "from fft import fft, fft_power, ifft\n",
    "import numpy as np\n",
    "import math"
   ]
  },
  {
   "cell_type": "code",
   "execution_count": null,
   "metadata": {},
   "outputs": [],
   "source": [
    "# Make the plots a bit bigger to see\n",
    "# NOTE: Must be done in a separate cell\n",
    "plt.rcParams['figure.dpi'] = 150"
   ]
  },
  {
   "cell_type": "markdown",
   "metadata": {},
   "source": [
    "## Sunspot Data\n",
    "\n",
    "These data need to be padded. Once we transform to the Fourier domain, we will see several dominant frequencies. We will investigate what happens when we remove the higher-frequency components. \n",
    "\n",
    "If you would like to adjust the amount of smoothing, you can adjust the \"maxfreq\" variable. "
   ]
  },
  {
   "cell_type": "code",
   "execution_count": 2,
   "metadata": {},
   "outputs": [
    {
     "ename": "ModuleNotFoundError",
     "evalue": "No module named 'read_ssn'",
     "output_type": "error",
     "traceback": [
      "\u001b[0;31m---------------------------------------------------------------------------\u001b[0m",
      "\u001b[0;31mModuleNotFoundError\u001b[0m                       Traceback (most recent call last)",
      "\u001b[0;32m<ipython-input-2-47dccb7340ec>\u001b[0m in \u001b[0;36m<module>\u001b[0;34m\u001b[0m\n\u001b[0;32m----> 1\u001b[0;31m \u001b[0;32mfrom\u001b[0m \u001b[0mread_ssn\u001b[0m \u001b[0;32mimport\u001b[0m \u001b[0mread_ssn\u001b[0m\u001b[0;34m\u001b[0m\u001b[0;34m\u001b[0m\u001b[0m\n\u001b[0m\u001b[1;32m      2\u001b[0m \u001b[0;32mimport\u001b[0m \u001b[0mmath\u001b[0m\u001b[0;34m\u001b[0m\u001b[0;34m\u001b[0m\u001b[0m\n\u001b[1;32m      3\u001b[0m \u001b[0;34m\u001b[0m\u001b[0m\n\u001b[1;32m      4\u001b[0m \u001b[0;31m# Read like previous example with CO2 data\u001b[0m\u001b[0;34m\u001b[0m\u001b[0;34m\u001b[0m\u001b[0;34m\u001b[0m\u001b[0m\n\u001b[1;32m      5\u001b[0m \u001b[0mx\u001b[0m\u001b[0;34m,\u001b[0m\u001b[0my\u001b[0m \u001b[0;34m=\u001b[0m \u001b[0mread_ssn\u001b[0m\u001b[0;34m(\u001b[0m\u001b[0;34m'monthssn.dat'\u001b[0m\u001b[0;34m)\u001b[0m\u001b[0;34m\u001b[0m\u001b[0;34m\u001b[0m\u001b[0m\n",
      "\u001b[0;31mModuleNotFoundError\u001b[0m: No module named 'read_ssn'"
     ]
    }
   ],
   "source": [
    "from read_ssn import read_ssn\n",
    "import math\n",
    "\n",
    "# Read like previous example with CO2 data\n",
    "x,y = read_ssn('monthssn.dat')\n",
    "y_valid = y >= 0.\n",
    "y = y[y_valid]\n",
    "\n",
    "# instead of truncating, pad with values\n",
    "\n",
    "N = len(y)\n",
    "log2N = math.log(N, 2)\n",
    "next_pow_of_2 = int(log2N) + 1\n",
    "if log2N - int(log2N) > 0.0 :    \n",
    "    ypads = np.full( 2**( next_pow_of_2) - N, 0, dtype=np.double)\n",
    "    y = np.concatenate( (y, ypads) )\n",
    "    # CAREFUL: When you pad, the x axis becomes somewhat \"meaningless\" for the padded values, \n",
    "    # so typically it is best to just consider it an index\n",
    "    x = np.arange(len(y))\n",
    "    N = len(y)\n",
    "                \n",
    "# Get the FFT\n",
    "Y = fft(y)\n",
    "# Smooth the data in the Fourier domain.\n",
    "# Adjust this to change the frequencies to delete (frequencies are removed from maxfreq to N/2\n",
    "# and accounts for the Nyquist frequency). \n",
    "maxfreq = 50\n",
    "Y[maxfreq:len(Y)-maxfreq] = 0.0\n",
    "# Get the absolute value and power for plotting\n",
    "Y_abs = abs(Y)\n",
    "powery = fft_power(Y)\n",
    "powerx = np.arange(powery.size)\n",
    "\n",
    "# Now go back to the frequency domain. \n",
    "# Compare the data before and after filtering. \n",
    "yfiltered = ifft(Y)\n",
    "yfiltered_abs= abs(yfiltered)\n",
    "\n",
    "\n",
    "\n",
    "f1 = plt.figure(1)\n",
    "plt.plot( x, y, label='Original' )\n",
    "plt.plot( x, yfiltered_abs, label='Filtered' )\n",
    "plt.xlabel(\"Index\")\n",
    "plt.ylabel(\"Sunspot number\")\n",
    "plt.legend()\n",
    "\n",
    "f2 = plt.figure(2)\n",
    "plt.plot( powerx, powery, label=\"Power\" )\n",
    "plt.plot( x, Y_abs, label=\"Magnitude\" )\n",
    "plt.legend()\n",
    "plt.xlim([0,maxfreq*2])\n",
    "plt.yscale('log')\n",
    "plt.xlabel(\"Spectral Index\")\n",
    "plt.ylabel(\"Fourier Component\")\n",
    "\n",
    "plt.show()\n",
    "\n"
   ]
  },
  {
   "cell_type": "code",
   "execution_count": null,
   "metadata": {},
   "outputs": [],
   "source": []
  },
  {
   "cell_type": "code",
   "execution_count": null,
   "metadata": {},
   "outputs": [],
   "source": []
  }
 ],
 "metadata": {
  "kernelspec": {
   "display_name": "Python 3",
   "language": "python",
   "name": "python3"
  }
 },
 "nbformat": 4,
 "nbformat_minor": 2
}
